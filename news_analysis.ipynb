{
 "cells": [
  {
   "cell_type": "code",
   "execution_count": 39,
   "metadata": {},
   "outputs": [
    {
     "name": "stdout",
     "output_type": "stream",
     "text": [
      "[<div class=\"st\">Now is the time when people typically start assessing what the year ahead is likely to bring for various topics and industries. <b>Bitcoin</b> is no ...</div>, <div class=\"st\">I hear the following about <b>bitcoin</b>: <b>bitcoin</b> is not money. Having made a lot of money out of crypto, I can tell you categorically that it is. Apparently ...</div>, <div class=\"st\">Financial Survivalism, a <b>Bitcoin</b> proponent and self-proclaimed “financial revolution prepper,” recently remarked that from his point of view, BTC ...</div>, <div class=\"st\">Instead of concentrating on building the vertical second layer on top of the <b>bitcoin</b> network, the industry has been obsessed with developing ...</div>, <div class=\"st\">Complete with the “mooning” slogan and a Astronauts in the back ground, <b>Bitcoin</b> investors should get ready for a moon-sling. 2019 is not the ...</div>, <div class=\"st\">About 66% of all investments came from institutions, while 88% of all Grayscale digital investments were in <b>Bitcoin</b>. Just 12% of investments ...</div>, <div class=\"st\"><b>Bitcoin</b> prices fell on Friday, with one expert cautioning that further declines were on the horizon for the world's most popular digital asset.</div>, <div class=\"st\"><b>Bitcoin</b> is trapped in an on-going 13-month bear market which has dragged down almost all other major cryptocurrencies, but that hasn't ...</div>, <div class=\"st\">“S**t f**k, I agree with Nouriel,” said one cryptocurrency enthusiast in reference to NYU economist and vocal <b>bitcoin</b> bear Nouriel Roubini.</div>, <div class=\"st\"><b>Bitcoin</b> has been steadily sliding for more than a year, losing some 80% in value over the last 14 months, and traders are keenly looking out for ...</div>]\n",
      "bitcoin Subjectivity:  0.2896527777777778 Sentiment:  0.04621527777777778\n"
     ]
    }
   ],
   "source": [
    "from textblob import TextBlob\n",
    "import requests\n",
    "from bs4 import BeautifulSoup\n",
    "\n",
    "class Analysis:\n",
    "    def __init__(self, term):\n",
    "        self.term = term\n",
    "        self.subjectivity = 0\n",
    "        self.sentiment = 0\n",
    "        \n",
    "        self.url = 'https://www.google.com/search?q={0}&source=lnms&tbm=nws&sa=X&ved=0ahUKEwiXnsS15cDgAhWC5oMKHdUyBL4Q_AUIDigB'.format(self.term)\n",
    "        \n",
    "    def run(self):\n",
    "        response = requests.get(self.url)\n",
    "       # print(response.text)\n",
    "        soup = BeautifulSoup(response.text, 'html.parser')\n",
    "        headline_results = soup.find_all('div',class_='st')\n",
    "        print(headline_results)\n",
    "        for h in headline_results:\n",
    "            blob = TextBlob(h.get_text())\n",
    "            self.sentiment += blob.sentiment.polarity / len(headline_results)\n",
    "            self.subjectivity += blob.sentiment.subjectivity / len(headline_results)\n",
    "        \n",
    "a = Analysis('bitcoin')\n",
    "a.run()\n",
    "print(a.term, 'Subjectivity: ', a.subjectivity,'Sentiment: ', a.sentiment)"
   ]
  },
  {
   "cell_type": "code",
   "execution_count": 42,
   "metadata": {
    "scrolled": true
   },
   "outputs": [
    {
     "name": "stdout",
     "output_type": "stream",
     "text": [
      "He has previously suggested Brexit might have to be delayed beyond the scheduled exit date, and that he would find it very difficult to remain in ...\n",
      "0.5833333333333334\n",
      "LONDON — When Theresa May's Brexit deal was defeated by a record margin of 230 House of Commons votes in January, some commentators predicted that it ...\n",
      "0.0\n",
      "With just six weeks to go until Brexit day, U.K. Prime Minister Theresa May continues to wield the threat of walking away from talks as a ...\n",
      "0.0\n",
      "The justice secretary said he hoped a deal will have been struck by 27 February, when the next round of Brexit votes are scheduled in the ...\n",
      "0.2\n",
      "LONDONDERRY, Northern Ireland — Gary Donnelly, a city councilor in Londonderry, has fought for years to end British rule in Northern Ireland ...\n",
      "0.0\n",
      "He told his party's spring conference in Omagh, Co Tyrone, that they want a Brexit deal, “but we are very clear that a no-deal is better than a ...\n",
      "0.49916666666666665\n",
      "The car industry is particularly exposed to the risk of a no-deal Brexit, because its products attract relatively high tariffs. Companies that ...\n",
      "0.43666666666666665\n",
      "After Brexit there could be a big, big difference in the prices of what we buy.” If the cost of imports does rise, it will have a knock-on effect on the ...\n",
      "0.1\n",
      "A GROUP of Remainer ministers could quit Theresa May's Cabinet if she refuses to delay Brexit which could even bring down the Government, ...\n",
      "0.2888888888888889\n",
      "This will truly, finally, be “high noon” we are promised, but weary watchers of the Brexit stalemate could be forgiven a snort of derision. Will next ...\n",
      "0.26999999999999996\n"
     ]
    }
   ],
   "source": [
    "term = 'brexit'\n",
    "\n",
    "url = 'https://www.google.com/search?q=brexit&source=lnms&tbm=nws&sa=X&ved=0ahUKEwiXnsS15cDgAhWC5oMKHdUyBL4Q_AUIDigB'\n",
    "\n",
    "response = requests.get(url)\n",
    "soup = BeautifulSoup(response.text, 'html.parser')\n",
    "\n",
    "headline_results = soup.find_all('div',class_='st')\n",
    "\n",
    "for h in headline_results:\n",
    "    blob = TextBlob(h.get_text())\n",
    "    print(blob)\n",
    "    print(blob.sentiment.subjectivity)\n"
   ]
  },
  {
   "cell_type": "code",
   "execution_count": 22,
   "metadata": {},
   "outputs": [],
   "source": [
    "for item in soup.select(\".r a\"):\n",
    "        print(item.text)"
   ]
  },
  {
   "cell_type": "code",
   "execution_count": null,
   "metadata": {},
   "outputs": [],
   "source": []
  }
 ],
 "metadata": {
  "kernelspec": {
   "display_name": "New_Env",
   "language": "python",
   "name": "new_env"
  },
  "language_info": {
   "codemirror_mode": {
    "name": "ipython",
    "version": 3
   },
   "file_extension": ".py",
   "mimetype": "text/x-python",
   "name": "python",
   "nbconvert_exporter": "python",
   "pygments_lexer": "ipython3",
   "version": "3.7.2"
  }
 },
 "nbformat": 4,
 "nbformat_minor": 2
}
