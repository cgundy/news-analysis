{
 "cells": [
  {
   "cell_type": "code",
   "execution_count": 44,
   "metadata": {
    "scrolled": true
   },
   "outputs": [
    {
     "name": "stdout",
     "output_type": "stream",
     "text": [
      "[<div class=\"st\">He has previously suggested <b>Brexit</b> might have to be delayed beyond the scheduled exit date, and that he would find it very difficult to remain in ...</div>, <div class=\"st\">LONDON — When Theresa May's <b>Brexit</b> deal was defeated by a record margin of 230 House of Commons votes in January, some commentators predicted that it ...</div>, <div class=\"st\">They control the Corbyn left and the <b>Brexit</b> right. They have built a wall around themselves, and decades from now, they will be shouting that ...</div>, <div class=\"st\">After <b>Brexit</b> there could be a big, big difference in the prices of what we buy.” If the cost of imports does rise, it will have a knock-on effect on the ...</div>, <div class=\"st\">MPs can expect to nod through a few regulations covering fertilisers, aquatic animals and other issues as part of the <b>Brexit</b> transfer of rules from ...</div>, <div class=\"st\">May will insist to EU chiefs that her defeat in parliament on Thursday does not change her belief that her <b>Brexit</b> deal can still achieve a majority ...</div>, <div class=\"st\">The <b>Brexit</b> drama in Westminster has become a kind of rolling “High Noon”, in which the gunslingers never quite get round to shooting and ...</div>, <div class=\"st\">This will truly, finally, be “high noon” we are promised, but weary watchers of the <b>Brexit</b> stalemate could be forgiven a snort of derision. Will next ...</div>, <div class=\"st\">He told his party's spring conference in Omagh, Co Tyrone, that they want a <b>Brexit</b> deal, “but we are very clear that a no-deal is better than a ...</div>, <div class=\"st\">LONDONDERRY, Northern Ireland — Gary Donnelly, a city councilor in Londonderry, has fought for years to end British rule in Northern Ireland ...</div>]\n",
      "He has previously suggested Brexit might have to be delayed beyond the scheduled exit date, and that he would find it very difficult to remain in ...\n",
      "LONDON — When Theresa May's Brexit deal was defeated by a record margin of 230 House of Commons votes in January, some commentators predicted that it ...\n",
      "They control the Corbyn left and the Brexit right. They have built a wall around themselves, and decades from now, they will be shouting that ...\n",
      "After Brexit there could be a big, big difference in the prices of what we buy.” If the cost of imports does rise, it will have a knock-on effect on the ...\n",
      "MPs can expect to nod through a few regulations covering fertilisers, aquatic animals and other issues as part of the Brexit transfer of rules from ...\n",
      "May will insist to EU chiefs that her defeat in parliament on Thursday does not change her belief that her Brexit deal can still achieve a majority ...\n",
      "The Brexit drama in Westminster has become a kind of rolling “High Noon”, in which the gunslingers never quite get round to shooting and ...\n",
      "This will truly, finally, be “high noon” we are promised, but weary watchers of the Brexit stalemate could be forgiven a snort of derision. Will next ...\n",
      "He told his party's spring conference in Omagh, Co Tyrone, that they want a Brexit deal, “but we are very clear that a no-deal is better than a ...\n",
      "LONDONDERRY, Northern Ireland — Gary Donnelly, a city councilor in Londonderry, has fought for years to end British rule in Northern Ireland ...\n"
     ]
    }
   ],
   "source": [
    "from textblob import TextBlob\n",
    "import requests\n",
    "from bs4 import BeautifulSoup\n",
    "\n",
    "class NewsAnalysis:\n",
    "    def __init__(self, term):\n",
    "        self.term = term\n",
    "        self.subjectivity = 0\n",
    "        self.sentiment = 0\n",
    "        \n",
    "        self.url = 'https://www.google.com/search?q={0}&source=lnms&tbm=nws&sa=X&ved=0ahUKEwiXnsS15cDgAhWC5oMKHdUyBL4Q_AUIDigB'.format(self.term)\n",
    "        \n",
    "    def headlines(self):\n",
    "        response = requests.get(self.url)\n",
    "        soup = BeautifulSoup(response.text, 'html.parser')\n",
    "        headline_results = soup.find_all('div',class_='st')\n",
    "        print(headline_results)\n",
    "        for h in headline_results:\n",
    "            blob = TextBlob(h.get_text())\n",
    "            print(blob)\n",
    "     #       self.sentiment += blob.sentiment.polarity / len(headline_results)\n",
    "     #       self.subjectivity += blob.sentiment.subjectivity / len(headline_results)\n",
    "        \n",
    "a = NewsAnalysis('brexit')\n",
    "a.headlines()\n",
    "#print(a.term, 'Subjectivity: ', a.subjectivity,'Sentiment: ', a.sentiment)"
   ]
  },
  {
   "cell_type": "code",
   "execution_count": 45,
   "metadata": {
    "scrolled": false
   },
   "outputs": [],
   "source": [
    "term = 'brexit'\n",
    "\n",
    "url = 'https://news.google.com/search?q=brexit&hl=en-US&gl=US&ceid=US%3Aen'\n",
    "\n",
    "response = requests.get(url)\n",
    "soup = BeautifulSoup(response.text, 'html.parser')\n",
    "\n",
    "headline_results = soup.find_all('div',class_='st')\n",
    "\n",
    "for h in headline_results:\n",
    "    blob = TextBlob(h.get_text())\n",
    "    print(blob)\n",
    "   # print(blob.sentiment.subjectivity)\n"
   ]
  },
  {
   "cell_type": "code",
   "execution_count": 61,
   "metadata": {
    "scrolled": true
   },
   "outputs": [
    {
     "name": "stdout",
     "output_type": "stream",
     "text": [
      "David Gauke urged the government to ‘act responsibly’.\n",
      "Nicki Lark fears the flower stall on Cambridge market will have to increase its prices under a no-deal Brexit.\n",
      "PM May has weathered humiliating defeats, both domestic and international, during Brexit negotiations [Alastair Grant/AP Photo]\n",
      "Subscribe to read | Financial Times\n",
      "The 300-mile border between Northern Ireland and the Irish Republic has been rendered virtually invisible by shared trading rules in the European Union. But a no-deal Brexit could bring back checkpoints.\n",
      "Porsche’s production line in Leipzig, Germany.\n",
      "Illustration: Nathalie Lees\n",
      "Subscribe to read | Financial Times\n",
      "People’s Vote supporters protest in Parliament Square before MPs held the latest Brexit debate.\n",
      "Rosa Ashby runs Rosa Flowers in the English market town of Witney. Every flower in her shop, including lilies, chrysanthemums and lisianthus, is either grown in or distributed through the Netherlands.\n",
      "Pedro Sanchez on Feb. 15. Photographer: Angel Navarrete/Bloomberg\n",
      "Liam Fox ruled out making changes to the UK’s human rights standards.\n",
      "Mark Carney’s ‘worst case’ scenario document in November was not his finest hour\n",
      "‘The Vote Leave campaign told us that if we supported them, they would ensure we were able to get more chefs from south Asia by relaxing immigration rules. We made the mistake of believing them.’\n",
      "UK International trade secretary Liam Fox’s department has yet to sign agreements with several significant trading partners, including Canada, Japan, South Korea and Turkey.\n",
      "The group Led By Donkeys paid to have a billboard put up in London's West Kensington section that quotes Jacob Rees-Mogg saying in Parliament in 2011: \"We could have two referendums. As it happens, it might make more sense to have the second referendum after the renegotiation is completed.\"\n",
      "Audience members at a public meeting with Mr. Boles in Stamford. His fate is being watched closely as a bellwether of whether the Conservative Party will go on to purge other members who do not support the party’s Brexit strategy.\n",
      "Nancy Pelosi suggested Democrats would mount a legal challenge to the president’s national emergency declaration.\n",
      "Sinn Féin leader, Mary Lou McDonald, held an hour-long meeting on with Jeremy Corbyn to discuss the border poll\n",
      "Tory donors who support May’s deal are nevertheless considering their financial relationship with her party.\n",
      "‘People’s Vote says “it’s a matter for the donors if they want to go public”.’ People’s Vote campaigners record a social media message.\n",
      "Theresa May Photographer: Jasper Juinen/Bloomberg\n",
      "passengers at the EU and Swiss passport control desk in the arrivals-hall, sign in the French language. (Photo by: aviation-images.com/UIG via Getty Images)\n",
      "Global Future’s study says 100,000 social care and nursing jobs could be left unfilled.\n",
      "Under pressure on Brexit: Theresa May\n",
      "Unrest After a No-Deal Brexit? Save the Queen - The New York Times\n",
      "Photographs: Bloomberg Photographer: Bloomberg/Bloomberg\n",
      "Brexit: we need to talk about staff concerns | Financial Times\n",
      "Subscribe to read | Financial Times\n",
      "MEP Catherine Bearder had been booked for a debate with Tory MP Daniel Kawczynski\n"
     ]
    }
   ],
   "source": [
    "headline_results = soup.find_all('span', class_='fyxBIe B798Ne zrSLd')\n",
    "date_time = soup.findAll('time')\n",
    "\n",
    "for i in 1:length(headline_results)\n",
    "\n",
    "for h in headline_results:\n",
    "        blob = TextBlob(h.get_text())\n",
    "        print(blob)\n",
    "        \n",
    "for i in soup.findAll('time'):\n",
    "        if i.has_attr('datetime'):\n",
    "            print(i['datetime'])"
   ]
  },
  {
   "cell_type": "code",
   "execution_count": 79,
   "metadata": {
    "scrolled": true
   },
   "outputs": [
    {
     "data": {
      "text/plain": [
       "[<span class=\"fyxBIe B798Ne zrSLd\">David Gauke urged the government to ‘act responsibly’.</span>,\n",
       " <span class=\"fyxBIe B798Ne zrSLd\">Nicki Lark fears the flower stall on Cambridge market will have to increase its prices under a no-deal Brexit.</span>,\n",
       " <span class=\"fyxBIe B798Ne zrSLd\">PM May has weathered humiliating defeats, both domestic and international, during Brexit negotiations [Alastair Grant/AP Photo]</span>,\n",
       " <span class=\"fyxBIe B798Ne zrSLd\">Subscribe to read | Financial Times</span>,\n",
       " <span class=\"fyxBIe B798Ne zrSLd\">The 300-mile border between Northern Ireland and the Irish Republic has been rendered virtually invisible by shared trading rules in the European Union. But a no-deal Brexit could bring back checkpoints.</span>,\n",
       " <span class=\"fyxBIe B798Ne zrSLd\">Porsche’s production line in Leipzig, Germany.</span>,\n",
       " <span class=\"fyxBIe B798Ne zrSLd\">Illustration: Nathalie Lees</span>,\n",
       " <span class=\"fyxBIe B798Ne zrSLd\">Subscribe to read | Financial Times</span>,\n",
       " <span class=\"fyxBIe B798Ne zrSLd\">People’s Vote supporters protest in Parliament Square before MPs held the latest Brexit debate.</span>,\n",
       " <span class=\"fyxBIe B798Ne zrSLd\">Rosa Ashby runs Rosa Flowers in the English market town of Witney. Every flower in her shop, including lilies, chrysanthemums and lisianthus, is either grown in or distributed through the Netherlands.</span>,\n",
       " <span class=\"fyxBIe B798Ne zrSLd\">Pedro Sanchez on Feb. 15. Photographer: Angel Navarrete/Bloomberg</span>,\n",
       " <span class=\"fyxBIe B798Ne zrSLd\">Liam Fox ruled out making changes to the UK’s human rights standards.</span>,\n",
       " <span class=\"fyxBIe B798Ne zrSLd\">Mark Carney’s ‘worst case’ scenario document in November was not his finest hour</span>,\n",
       " <span class=\"fyxBIe B798Ne zrSLd\">‘The Vote Leave campaign told us that if we supported them, they would ensure we were able to get more chefs from south Asia by relaxing immigration rules. We made the mistake of believing them.’</span>,\n",
       " <span class=\"fyxBIe B798Ne zrSLd\">UK International trade secretary Liam Fox’s department has yet to sign agreements with several significant trading partners, including Canada, Japan, South Korea and Turkey.</span>,\n",
       " <span class=\"fyxBIe B798Ne zrSLd\">The group Led By Donkeys paid to have a billboard put up in London's West Kensington section that quotes Jacob Rees-Mogg saying in Parliament in 2011: \"We could have two referendums. As it happens, it might make more sense to have the second referendum after the renegotiation is completed.\"</span>,\n",
       " <span class=\"fyxBIe B798Ne zrSLd\">Audience members at a public meeting with Mr. Boles in Stamford. His fate is being watched closely as a bellwether of whether the Conservative Party will go on to purge other members who do not support the party’s Brexit strategy.</span>,\n",
       " <span class=\"fyxBIe B798Ne zrSLd\">Nancy Pelosi suggested Democrats would mount a legal challenge to the president’s national emergency declaration.</span>,\n",
       " <span class=\"fyxBIe B798Ne zrSLd\">Sinn Féin leader, Mary Lou McDonald, held an hour-long meeting on with Jeremy Corbyn to discuss the border poll</span>,\n",
       " <span class=\"fyxBIe B798Ne zrSLd\">Tory donors who support May’s deal are nevertheless considering their financial relationship with her party.</span>,\n",
       " <span class=\"fyxBIe B798Ne zrSLd\">‘People’s Vote says “it’s a matter for the donors if they want to go public”.’ People’s Vote campaigners record a social media message.</span>,\n",
       " <span class=\"fyxBIe B798Ne zrSLd\">Theresa May Photographer: Jasper Juinen/Bloomberg</span>,\n",
       " <span class=\"fyxBIe B798Ne zrSLd\">passengers at the EU and Swiss passport control desk in the arrivals-hall, sign in the French language. (Photo by: aviation-images.com/UIG via Getty Images)</span>,\n",
       " <span class=\"fyxBIe B798Ne zrSLd\">Global Future’s study says 100,000 social care and nursing jobs could be left unfilled.</span>,\n",
       " <span class=\"fyxBIe B798Ne zrSLd\">Under pressure on Brexit: Theresa May</span>,\n",
       " <span class=\"fyxBIe B798Ne zrSLd\">Unrest After a No-Deal Brexit? Save the Queen - The New York Times</span>,\n",
       " <span class=\"fyxBIe B798Ne zrSLd\">Photographs: Bloomberg Photographer: Bloomberg/Bloomberg</span>,\n",
       " <span class=\"fyxBIe B798Ne zrSLd\">Brexit: we need to talk about staff concerns | Financial Times</span>,\n",
       " <span class=\"fyxBIe B798Ne zrSLd\">Subscribe to read | Financial Times</span>,\n",
       " <span class=\"fyxBIe B798Ne zrSLd\">MEP Catherine Bearder had been booked for a debate with Tory MP Daniel Kawczynski</span>]"
      ]
     },
     "execution_count": 79,
     "metadata": {},
     "output_type": "execute_result"
    }
   ],
   "source": [
    "headline_results = soup.find_all('span', class_='fyxBIe B798Ne zrSLd')\n",
    "date_time = soup.findAll('time')\n",
    "\n",
    "headline_results"
   ]
  },
  {
   "cell_type": "code",
   "execution_count": 103,
   "metadata": {
    "scrolled": true
   },
   "outputs": [
    {
     "name": "stdout",
     "output_type": "stream",
     "text": [
      "Remainers plan mass march and key vote in last days before Brexit\n",
      "David Gauke expresses 'grave concerns' about no-deal Brexit\n",
      "Brexit extremism is going nowhere. Now the moderate millions must ...\n",
      "How a No-Deal Brexit Is Shaping Up, From Banks to Food Supplies\n",
      "BREXIT BOOST: How Britain's exit from EU could slash cash off ...\n",
      "Florists: Fresh blooms could become preserve of the rich in no-deal ...\n",
      "Labour green group urges Corbyn to back second Brexit vote\n",
      "Barnier: May's Brexit strategy has failed after latest Commons defeat\n",
      "Inside Politics: MPs punished for Brexit mess\n",
      "Parliament's Brexit drama will play out in three acts\n",
      "Campaigners against Theresa May's “my deal or no deal” Brexit strategy are planning to mobilise the public and politicians for a showdown ...\n",
      "He has previously suggested Brexit might have to be delayed beyond the scheduled exit date, and that he would find it very difficult to remain in ...\n",
      "They control the Corbyn left and the Brexit right. They have built a wall around themselves, and decades from now, they will be shouting that ...\n",
      "With just six weeks to go until Brexit day, U.K. Prime Minister Theresa May continues to wield the threat of walking away from talks as a ...\n",
      "Scrapping Air Passenger Duty (APD) for internal flights would knock £26 off the cost of a return journey. There are growing calls for post-Brexit ...\n",
      "After Brexit there could be a big, big difference in the prices of what we buy.” If the cost of imports does rise, it will have a knock-on effect on the ...\n",
      "The only environmental group affiliated to the Labour party has written to Jeremy Corbyn calling on him to back a second referendum on Brexit ...\n",
      "May will insist to EU chiefs that her defeat in parliament on Thursday does not change her belief that her Brexit deal can still achieve a majority ...\n",
      "MPs can expect to nod through a few regulations covering fertilisers, aquatic animals and other issues as part of the Brexit transfer of rules from ...\n",
      "The Brexit drama in Westminster has become a kind of rolling “High Noon”, in which the gunslingers never quite get round to shooting and ...\n"
     ]
    }
   ],
   "source": [
    "term = 'brexit'\n",
    "\n",
    "url = 'https://www.google.com/search?q=brexit&source=lnms&tbm=nws&sa=X&ved=0ahUKEwiv08PX0sHgAhWPk1kKHY9CBI4Q_AUIDigB'\n",
    "\n",
    "response = requests.get(url)\n",
    "soup = BeautifulSoup(response.text, 'html.parser')\n",
    "\n",
    "headline_results = soup.find_all(class_='r')\n",
    "\n",
    "for h in headline_results:\n",
    "    blob = TextBlob(h.get_text())\n",
    "    print(blob)\n",
    "    \n",
    "subline_results = soup.find_all('div',class_='st')\n",
    "for s in subline_results:\n",
    "    blob = TextBlob(s.get_text())\n",
    "    print(blob)\n"
   ]
  },
  {
   "cell_type": "code",
   "execution_count": 107,
   "metadata": {},
   "outputs": [
    {
     "name": "stdout",
     "output_type": "stream",
     "text": [
      "Remainers plan mass march and key vote in last days before Brexit\n",
      "Campaigners against Theresa May's “my deal or no deal” Brexit strategy are planning to mobilise the public and politicians for a showdown ...\n",
      "David Gauke expresses 'grave concerns' about no-deal Brexit\n",
      "He has previously suggested Brexit might have to be delayed beyond the scheduled exit date, and that he would find it very difficult to remain in ...\n",
      "Brexit extremism is going nowhere. Now the moderate millions must ...\n",
      "They control the Corbyn left and the Brexit right. They have built a wall around themselves, and decades from now, they will be shouting that ...\n",
      "How a No-Deal Brexit Is Shaping Up, From Banks to Food Supplies\n",
      "With just six weeks to go until Brexit day, U.K. Prime Minister Theresa May continues to wield the threat of walking away from talks as a ...\n",
      "BREXIT BOOST: How Britain's exit from EU could slash cash off ...\n",
      "Scrapping Air Passenger Duty (APD) for internal flights would knock £26 off the cost of a return journey. There are growing calls for post-Brexit ...\n",
      "Florists: Fresh blooms could become preserve of the rich in no-deal ...\n",
      "After Brexit there could be a big, big difference in the prices of what we buy.” If the cost of imports does rise, it will have a knock-on effect on the ...\n",
      "Labour green group urges Corbyn to back second Brexit vote\n",
      "The only environmental group affiliated to the Labour party has written to Jeremy Corbyn calling on him to back a second referendum on Brexit ...\n",
      "Barnier: May's Brexit strategy has failed after latest Commons defeat\n",
      "May will insist to EU chiefs that her defeat in parliament on Thursday does not change her belief that her Brexit deal can still achieve a majority ...\n",
      "Inside Politics: MPs punished for Brexit mess\n",
      "MPs can expect to nod through a few regulations covering fertilisers, aquatic animals and other issues as part of the Brexit transfer of rules from ...\n",
      "Parliament's Brexit drama will play out in three acts\n",
      "The Brexit drama in Westminster has become a kind of rolling “High Noon”, in which the gunslingers never quite get round to shooting and ...\n"
     ]
    }
   ],
   "source": [
    "headline_results = soup.find_all(class_='r')\n",
    "subline_results = soup.find_all('div',class_='st')\n",
    "\n",
    "for h, s in zip(headline_results, subline_results):\n",
    "    headline = TextBlob(h.get_text())\n",
    "    print(headline)\n",
    "    subline = TextBlob(s.get_text())\n",
    "    print(subline)\n",
    "    "
   ]
  },
  {
   "cell_type": "code",
   "execution_count": null,
   "metadata": {},
   "outputs": [],
   "source": []
  },
  {
   "cell_type": "code",
   "execution_count": 108,
   "metadata": {},
   "outputs": [
    {
     "data": {
      "text/plain": [
       "<h3 class=\"r\"><a href=\"/url?q=https://www.theguardian.com/politics/2019/feb/16/david-gauke-expresses-grave-concerns-about-no-deal-brexit&amp;sa=U&amp;ved=0ahUKEwjthc2w1MHgAhUC2eAKHXgpAZMQqQIIGygAMAE&amp;usg=AOvVaw19U80gRvh7HFv0tBnRUYsM\">David Gauke expresses 'grave concerns' about no-deal <b>Brexit</b></a></h3>"
      ]
     },
     "execution_count": 108,
     "metadata": {},
     "output_type": "execute_result"
    }
   ],
   "source": [
    "headline_results[1]"
   ]
  },
  {
   "cell_type": "code",
   "execution_count": 50,
   "metadata": {},
   "outputs": [
    {
     "data": {
      "text/plain": [
       "False"
      ]
     },
     "execution_count": 50,
     "metadata": {},
     "output_type": "execute_result"
    }
   ],
   "source": [
    "'fyxBIe B798Ne zrSLd' in soup"
   ]
  },
  {
   "cell_type": "code",
   "execution_count": null,
   "metadata": {},
   "outputs": [],
   "source": []
  }
 ],
 "metadata": {
  "kernelspec": {
   "display_name": "New_Env",
   "language": "python",
   "name": "new_env"
  },
  "language_info": {
   "codemirror_mode": {
    "name": "ipython",
    "version": 3
   },
   "file_extension": ".py",
   "mimetype": "text/x-python",
   "name": "python",
   "nbconvert_exporter": "python",
   "pygments_lexer": "ipython3",
   "version": "3.7.2"
  }
 },
 "nbformat": 4,
 "nbformat_minor": 2
}
