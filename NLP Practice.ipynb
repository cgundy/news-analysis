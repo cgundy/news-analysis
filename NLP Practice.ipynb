{
 "cells": [
  {
   "cell_type": "code",
   "execution_count": 8,
   "metadata": {},
   "outputs": [],
   "source": [
    "from textblob import TextBlob\n",
    "import requests\n",
    "from bs4 import BeautifulSoup\n",
    "\n",
    "\n",
    "url = 'https://www.google.com/search?q=brexit&source=lnms&tbm=nws&sa=X&ved=0ahUKEwiv08PX0sHgAhWPk1kKHY9CBI4Q_AUIDigB'\n",
    "\n",
    "response = requests.get(url)\n",
    "soup = BeautifulSoup(response.text, 'html.parser')\n",
    "\n",
    "headline_results = soup.find_all(class_='r')\n",
    "\n",
    "f= open(\"headlines.txt\",\"w+\")\n",
    "\n",
    "for h in headline_results:\n",
    "    blob = TextBlob(h.get_text())\n",
    "    f.write(str(blob))\n",
    "    \n",
    "subline_results = soup.find_all('div',class_='st')\n",
    "for s in subline_results:\n",
    "    blob = TextBlob(s.get_text())\n",
    "    f.write(str(blob))\n",
    "    \n",
    "f.close()"
   ]
  },
  {
   "cell_type": "code",
   "execution_count": null,
   "metadata": {
    "scrolled": false
   },
   "outputs": [],
   "source": [
    "import nltk\n",
    "nltk.download('wordnet')\n",
    "nltk.download('stopwords')"
   ]
  },
  {
   "cell_type": "code",
   "execution_count": 52,
   "metadata": {
    "scrolled": false
   },
   "outputs": [
    {
     "name": "stdout",
     "output_type": "stream",
     "text": [
      "['i', 'me', 'my', 'myself', 'we', 'our', 'ours', 'ourselves', 'you', \"you're\", \"you've\", \"you'll\", \"you'd\", 'your', 'yours', 'yourself', 'yourselves', 'he', 'him', 'his', 'himself', 'she', \"she's\", 'her', 'hers', 'herself', 'it', \"it's\", 'its', 'itself', 'they', 'them', 'their', 'theirs', 'themselves', 'what', 'which', 'who', 'whom', 'this', 'that', \"that'll\", 'these', 'those', 'am', 'is', 'are', 'was', 'were', 'be', 'been', 'being', 'have', 'has', 'had', 'having', 'do', 'does', 'did', 'doing', 'a', 'an', 'the', 'and', 'but', 'if', 'or', 'because', 'as', 'until', 'while', 'of', 'at', 'by', 'for', 'with', 'about', 'against', 'between', 'into', 'through', 'during', 'before', 'after', 'above', 'below', 'to', 'from', 'up', 'down', 'in', 'out', 'on', 'off', 'over', 'under', 'again', 'further', 'then', 'once', 'here', 'there', 'when', 'where', 'why', 'how', 'all', 'any', 'both', 'each', 'few', 'more', 'most', 'other', 'some', 'such', 'no', 'nor', 'not', 'only', 'own', 'same', 'so', 'than', 'too', 'very', 's', 't', 'can', 'will', 'just', 'don', \"don't\", 'should', \"should've\", 'now', 'd', 'll', 'm', 'o', 're', 've', 'y', 'ain', 'aren', \"aren't\", 'couldn', \"couldn't\", 'didn', \"didn't\", 'doesn', \"doesn't\", 'hadn', \"hadn't\", 'hasn', \"hasn't\", 'haven', \"haven't\", 'isn', \"isn't\", 'ma', 'mightn', \"mightn't\", 'mustn', \"mustn't\", 'needn', \"needn't\", 'shan', \"shan't\", 'shouldn', \"shouldn't\", 'wasn', \"wasn't\", 'weren', \"weren't\", 'won', \"won't\", 'wouldn', \"wouldn't\"]\n"
     ]
    }
   ],
   "source": [
    "f = open(\"headlines.txt\", \"r\")\n",
    "\n",
    "words = f.read().split()\n",
    "\n",
    "# remove stop words\n",
    "\n",
    "stop_words = stopwords.words('english')\n",
    "print(stop_words)\n",
    "\n",
    "words = [w for w in words if not w in stop_words]\n"
   ]
  },
  {
   "cell_type": "code",
   "execution_count": 53,
   "metadata": {},
   "outputs": [
    {
     "name": "stdout",
     "output_type": "stream",
     "text": [
      "Theresa : n\n",
      "May : n\n",
      "delays : n\n",
      "vote : n\n",
      "buy : n\n",
      "clock : n\n",
      "opposition : n\n",
      "throws : n\n",
      "support : n\n",
      "behind : n\n",
      "potential : n\n",
      "Ireland : n\n",
      "playing : n\n",
      "mean : n\n",
      "Travel : n\n",
      "expert : n\n",
      "May : n\n",
      "makes : n\n",
      "progress : n\n",
      "Labour : n\n",
      "tilts : n\n",
      "collapse : n\n",
      "love : n\n",
      "affair : n\n",
      "anger : n\n",
      "uncertainty : n\n",
      "explained : v\n",
      "May : n\n",
      "picked : v\n",
      "day : n\n",
      "live : v\n",
      "Fink : n\n",
      "slams : n\n",
      "UK : n\n",
      "force : n\n",
      "disrupt : v\n",
      "time : n\n",
      "going : n\n",
      "parliamentary : a\n",
      "vote : n\n",
      "beleaguered : v\n",
      "deal : n\n",
      "desperate : n\n",
      "effort : n\n",
      "buy : n\n",
      "time : n\n",
      "hostage : n\n",
      "protracted : v\n",
      "squabbling : v\n",
      "politicians : n\n",
      "competing : v\n",
      "still : n\n",
      "clock : n\n",
      "ticks : n\n",
      "March : n\n",
      "deadline : n\n",
      "Republic : n\n",
      "Ireland : n\n",
      "playing : n\n",
      "stance : n\n",
      "Leo : n\n",
      "taoiseach : n\n",
      "prime : n\n",
      "spells : n\n",
      "much : n\n",
      "uncertainty : n\n",
      "future : n\n",
      "UK : n\n",
      "one : n\n",
      "area : n\n",
      "worries : n\n",
      "many : a\n",
      "people : n\n",
      "affect : n\n",
      "travel : n\n",
      "Will : n\n",
      "still : n\n",
      "Prime : n\n",
      "Minister : n\n",
      "Theresa : n\n",
      "May : n\n",
      "making : n\n",
      "progress : n\n",
      "winning : n\n",
      "concessions : n\n",
      "European : n\n",
      "senior : n\n",
      "positive : n\n",
      "booming : v\n",
      "even : n\n",
      "despite : n\n",
      "referendum : n\n",
      "says : n\n",
      "Weeks : n\n",
      "80 : n\n",
      "miles : n\n",
      "drive : n\n",
      "Portsmouth : n\n",
      "channel : n\n",
      "south : n\n",
      "small : n\n",
      "vessel : n\n",
      "soon : r\n",
      "swallowed : v\n",
      "early : a\n",
      "morning : n\n",
      "playing : n\n",
      "Robbins : n\n",
      "civil : s\n",
      "servant : n\n",
      "negotiating : v\n",
      "PM : n\n",
      "told : v\n",
      "mates : n\n",
      "Brussels : n\n",
      "overheard : v\n",
      "immediate : s\n",
      "problem : n\n",
      "quite : r\n",
      "frankly : r\n",
      "annoying : n\n",
      "every : s\n",
      "private : n\n",
      "sector : n\n",
      "organization : n\n",
      "world : n\n",
      "Conservative : n\n",
      "party : n\n",
      "embraced : v\n",
      "mythic : a\n",
      "nativist : n\n",
      "destiny : n\n",
      "must : n\n",
      "march : n\n"
     ]
    }
   ],
   "source": [
    "# classifies whether words are nouns, verbs or adjectives\n",
    "\n",
    "for w in words:\n",
    "    if len(wn.synsets(w)) == 0:\n",
    "        next\n",
    "    else:\n",
    "        tmp = wn.synsets(w)[0].pos()\n",
    "        print(w, \":\", tmp)"
   ]
  },
  {
   "cell_type": "code",
   "execution_count": 54,
   "metadata": {},
   "outputs": [
    {
     "name": "stdout",
     "output_type": "stream",
     "text": [
      "[('Brexit', 14), ('May', 4), ('playing', 3), ('Theresa', 2), ('vote', 2), ('buy', 2), ('clock', 2), ('Ireland', 2), ('progress', 2), ('uncertainty', 2), ('UK', 2), ('time', 2), ('(CNN)', 2), ('...', 2), ('still', 2)]\n"
     ]
    }
   ],
   "source": [
    "frequency = nltk.FreqDist(words)\n",
    "print(frequency.most_common(15))"
   ]
  },
  {
   "cell_type": "code",
   "execution_count": 58,
   "metadata": {},
   "outputs": [
    {
     "name": "stdout",
     "output_type": "stream",
     "text": [
      "Theresa May delays Brexit vote to buy more time... again 0.05 0.05\n",
      "Brexit clock is ticking, as opposition throws support behind potential ... -0.02 0.08499999999999999\n",
      "Brexit: Ireland 'not playing chicken' on backstop -0.06 0.095\n",
      "Brexit news: What does Brexit mean for my holiday? Travel expert ... -0.03125 0.06875\n",
      "Theresa May makes progress on Brexit as Labour tilts toward a ... 0.0 0.0\n",
      "Honda, Brexit and the collapse of Japan's love affair with the UK 0.05 0.06\n",
      "Brexit anger and uncertainty can be explained through fish -0.06999999999999999 0.02\n",
      "Theresa May has picked the day on which Brexit will live or die 0.013636363636363636 0.05\n",
      "BlackRock's Larry Fink slams 'irresponsibility' of UK amid Brexit chaos 0.0 0.0\n",
      "There is now a force to disrupt Brexit. MPs, it's time to act 0.0 0.0\n"
     ]
    }
   ],
   "source": [
    "# sentiment analysis\n",
    "\n",
    "for h in headline_results:\n",
    "    blob = TextBlob(h.get_text())\n",
    "\n",
    "    sentiment = blob.sentiment.polarity / len(headline_results)\n",
    "    subjectivity = blob.sentiment.subjectivity / len(headline_results)\n",
    "    \n",
    "    print(blob, sentiment, subjectivity)"
   ]
  },
  {
   "cell_type": "code",
   "execution_count": null,
   "metadata": {},
   "outputs": [],
   "source": []
  }
 ],
 "metadata": {
  "kernelspec": {
   "display_name": "New_Env",
   "language": "python",
   "name": "new_env"
  },
  "language_info": {
   "codemirror_mode": {
    "name": "ipython",
    "version": 3
   },
   "file_extension": ".py",
   "mimetype": "text/x-python",
   "name": "python",
   "nbconvert_exporter": "python",
   "pygments_lexer": "ipython3",
   "version": "3.7.2"
  }
 },
 "nbformat": 4,
 "nbformat_minor": 2
}
