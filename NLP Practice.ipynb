{
 "cells": [
  {
   "cell_type": "code",
   "execution_count": 59,
   "metadata": {},
   "outputs": [],
   "source": [
    "from textblob import TextBlob\n",
    "import requests\n",
    "from bs4 import BeautifulSoup\n",
    "\n",
    "\n",
    "url = 'https://www.google.com/search?q=bitcoin&source=lnms&tbm=nws&sa=X&ved=0ahUKEwiv08PX0sHgAhWPk1kKHY9CBI4Q_AUIDigB'\n",
    "\n",
    "response = requests.get(url)\n",
    "soup = BeautifulSoup(response.text, 'html.parser')\n",
    "\n",
    "headline_results = soup.find_all(class_='r')\n",
    "\n",
    "f= open(\"headlines.txt\",\"w+\")\n",
    "\n",
    "for h in headline_results:\n",
    "    blob = TextBlob(h.get_text())\n",
    "    f.write(str(blob))\n",
    "    \n",
    "subline_results = soup.find_all('div',class_='st')\n",
    "for s in subline_results:\n",
    "    blob = TextBlob(s.get_text())\n",
    "    f.write(str(blob))\n",
    "    \n",
    "f.close()"
   ]
  },
  {
   "cell_type": "code",
   "execution_count": 60,
   "metadata": {
    "scrolled": false
   },
   "outputs": [
    {
     "name": "stderr",
     "output_type": "stream",
     "text": [
      "[nltk_data] Downloading package wordnet to /Users/cgundy/nltk_data...\n",
      "[nltk_data]   Package wordnet is already up-to-date!\n",
      "[nltk_data] Downloading package stopwords to\n",
      "[nltk_data]     /Users/cgundy/nltk_data...\n",
      "[nltk_data]   Package stopwords is already up-to-date!\n"
     ]
    },
    {
     "data": {
      "text/plain": [
       "True"
      ]
     },
     "execution_count": 60,
     "metadata": {},
     "output_type": "execute_result"
    }
   ],
   "source": [
    "import nltk\n",
    "nltk.download('wordnet')\n",
    "nltk.download('stopwords')"
   ]
  },
  {
   "cell_type": "code",
   "execution_count": 61,
   "metadata": {
    "scrolled": false
   },
   "outputs": [
    {
     "name": "stdout",
     "output_type": "stream",
     "text": [
      "['i', 'me', 'my', 'myself', 'we', 'our', 'ours', 'ourselves', 'you', \"you're\", \"you've\", \"you'll\", \"you'd\", 'your', 'yours', 'yourself', 'yourselves', 'he', 'him', 'his', 'himself', 'she', \"she's\", 'her', 'hers', 'herself', 'it', \"it's\", 'its', 'itself', 'they', 'them', 'their', 'theirs', 'themselves', 'what', 'which', 'who', 'whom', 'this', 'that', \"that'll\", 'these', 'those', 'am', 'is', 'are', 'was', 'were', 'be', 'been', 'being', 'have', 'has', 'had', 'having', 'do', 'does', 'did', 'doing', 'a', 'an', 'the', 'and', 'but', 'if', 'or', 'because', 'as', 'until', 'while', 'of', 'at', 'by', 'for', 'with', 'about', 'against', 'between', 'into', 'through', 'during', 'before', 'after', 'above', 'below', 'to', 'from', 'up', 'down', 'in', 'out', 'on', 'off', 'over', 'under', 'again', 'further', 'then', 'once', 'here', 'there', 'when', 'where', 'why', 'how', 'all', 'any', 'both', 'each', 'few', 'more', 'most', 'other', 'some', 'such', 'no', 'nor', 'not', 'only', 'own', 'same', 'so', 'than', 'too', 'very', 's', 't', 'can', 'will', 'just', 'don', \"don't\", 'should', \"should've\", 'now', 'd', 'll', 'm', 'o', 're', 've', 'y', 'ain', 'aren', \"aren't\", 'couldn', \"couldn't\", 'didn', \"didn't\", 'doesn', \"doesn't\", 'hadn', \"hadn't\", 'hasn', \"hasn't\", 'haven', \"haven't\", 'isn', \"isn't\", 'ma', 'mightn', \"mightn't\", 'mustn', \"mustn't\", 'needn', \"needn't\", 'shan', \"shan't\", 'shouldn', \"shouldn't\", 'wasn', \"wasn't\", 'weren', \"weren't\", 'won', \"won't\", 'wouldn', \"wouldn't\"]\n"
     ]
    }
   ],
   "source": [
    "f = open(\"headlines.txt\", \"r\")\n",
    "\n",
    "words = f.read().split()\n",
    "\n",
    "# remove stop words\n",
    "\n",
    "stop_words = stopwords.words('english')\n",
    "print(stop_words)\n",
    "\n",
    "words = [w for w in words if not w in stop_words]\n"
   ]
  },
  {
   "cell_type": "code",
   "execution_count": 62,
   "metadata": {},
   "outputs": [
    {
     "name": "stdout",
     "output_type": "stream",
     "text": [
      "Another : s\n",
      "Tech : n\n",
      "Guru : n\n",
      "Said : v\n",
      "Still : n\n",
      "Believe : v\n",
      "In : n\n",
      "Despite : n\n",
      "Price : n\n",
      "Price : n\n",
      "On : a\n",
      "Track : n\n",
      "End : n\n",
      "Losing : v\n",
      "Exact : v\n",
      "Bottom : n\n",
      "Is : v\n",
      "CEO : n\n",
      "Sun : n\n",
      "Adamant : n\n",
      "But : r\n",
      "Are : n\n",
      "Saying : n\n",
      "Has : n\n",
      "Price : n\n",
      "Data : n\n",
      "Suggests : v\n",
      "Announces : v\n",
      "Galaxy : n\n",
      "Price : n\n",
      "Coin : n\n",
      "rescued : v\n",
      "bull : n\n",
      "market : n\n",
      "fall : n\n",
      "Price : n\n",
      "Coin : n\n",
      "moves : n\n",
      "sideways : s\n",
      "fight : n\n",
      "Shows : n\n",
      "Why : n\n",
      "Is : v\n",
      "Not : r\n",
      "scalability : n\n",
      "crisis : n\n",
      "solved : v\n",
      "Lightning : n\n",
      "trapped : v\n",
      "painful : a\n",
      "bear : n\n",
      "market : n\n",
      "lost : n\n",
      "value : n\n",
      "hit : n\n",
      "all-time : s\n",
      "high : n\n",
      "almost : r\n",
      "appears : v\n",
      "track : n\n",
      "snap : n\n",
      "losing : v\n",
      "streak : n\n",
      "close : n\n",
      "February : n\n",
      "green : n\n",
      "fifth : n\n",
      "consecutive : s\n",
      "may : n\n",
      "remain : v\n",
      "long-term : s\n",
      "bottom : n\n",
      "price : n\n",
      "likened : v\n",
      "trying : v\n",
      "catch : n\n",
      "falling : v\n",
      "Case : n\n",
      "trading : n\n",
      "underwent : v\n",
      "drastic : s\n",
      "drop : n\n",
      "falling : v\n",
      "within : r\n",
      "matter : n\n",
      "hour : n\n",
      "remains : n\n",
      "far : n\n",
      "levels : n\n",
      "trapped : v\n",
      "bear : n\n",
      "market : n\n",
      "seemingly : r\n",
      "turn : n\n",
      "corner : n\n",
      "according : v\n",
      "bevy : n\n",
      "bullish : s\n",
      "comments : n\n",
      "revealed : v\n",
      "various : s\n",
      "related : v\n",
      "projects : n\n",
      "featured : v\n",
      "including : v\n",
      "support : n\n",
      "market : n\n",
      "took : v\n",
      "major : n\n",
      "coins : n\n",
      "rough : n\n",
      "ride : n\n",
      "past : n\n",
      "largest : a\n",
      "market : n\n",
      "also : r\n",
      "largest : a\n",
      "saw : n\n",
      "significant : a\n",
      "crash : n\n",
      "approximately : r\n",
      "past : n\n",
      "prices : n\n",
      "consolidated : v\n",
      "December : n\n",
      "date : n\n",
      "fell : n\n",
      "value : n\n",
      "became : v\n",
      "little : n\n",
      "plaything : n\n",
      "day : n\n",
      "Lightning : n\n",
      "Network : n\n",
      "seen : v\n",
      "cure : n\n",
      "scalability : n\n",
      "one : n\n",
      "persisted : v\n",
      "even : n\n",
      "led : n\n"
     ]
    }
   ],
   "source": [
    "# classifies whether words are nouns, verbs or adjectives\n",
    "\n",
    "for w in words:\n",
    "    if len(wn.synsets(w)) == 0:\n",
    "        next\n",
    "    else:\n",
    "        tmp = wn.synsets(w)[0].pos()\n",
    "        print(w, \":\", tmp)"
   ]
  },
  {
   "cell_type": "code",
   "execution_count": 63,
   "metadata": {},
   "outputs": [
    {
     "name": "stdout",
     "output_type": "stream",
     "text": [
      "[('Bitcoin', 9), ('Price', 5), ('market', 5), ('...Bitcoin', 4), ('The', 3), ('[BTC]', 3), ('...Bitcoin,', 3), ('since', 3), ('cryptocurrency', 3), ('(BTC)', 2), ('Is', 2), ('Crypto', 2), ('Analysis:', 2), ('Coin', 2), ('scalability', 2)]\n"
     ]
    }
   ],
   "source": [
    "frequency = nltk.FreqDist(words)\n",
    "print(frequency.most_common(15))"
   ]
  },
  {
   "cell_type": "code",
   "execution_count": 64,
   "metadata": {},
   "outputs": [
    {
     "name": "stdout",
     "output_type": "stream",
     "text": [
      "Another Tech Guru Said They Still Believe In Bitcoin Despite Price ... 0.0 0.0\n",
      "Bitcoin Price On Track to End Six-Month Losing Streak 0.0 0.0\n",
      "Catching The Exact Bitcoin (BTC) Bottom Is Dangerous: Crypto Analyst 0.008333333333333333 0.06833333333333333\n",
      "Tron CEO Justin Sun Adamant That Bitcoin (BTC) Bottomed, But ... 0.01 0.06999999999999999\n",
      "People Are Saying Bitcoin Has Bottomed--New Price Data Suggests ... 0.0 0.0\n",
      "Samsung Announces Galaxy S10 Crypto Partners, Bitcoin and ... 0.0 0.0\n",
      "Bitcoin [BTC] Price Analysis: Coin rescued by the bull as market fall ... 0.0 0.0\n",
      "Bitcoin [BTC/USD] Price Analysis: Coin moves sideways as the fight ... 0.0 0.0\n",
      "Jamie Dimon Shows Why Bitcoin Is Not The Future 0.0 0.0125\n",
      "Bitcoin [BTC] scalability crisis will not be solved by the Lightning ... 0.0 0.0\n"
     ]
    }
   ],
   "source": [
    "# sentiment analysis\n",
    "\n",
    "for h in headline_results:\n",
    "    blob = TextBlob(h.get_text())\n",
    "\n",
    "    sentiment = blob.sentiment.polarity / len(headline_results)\n",
    "    subjectivity = blob.sentiment.subjectivity / len(headline_results)\n",
    "    \n",
    "    print(blob, sentiment, subjectivity)"
   ]
  },
  {
   "cell_type": "code",
   "execution_count": null,
   "metadata": {},
   "outputs": [],
   "source": []
  }
 ],
 "metadata": {
  "kernelspec": {
   "display_name": "New_Env",
   "language": "python",
   "name": "new_env"
  },
  "language_info": {
   "codemirror_mode": {
    "name": "ipython",
    "version": 3
   },
   "file_extension": ".py",
   "mimetype": "text/x-python",
   "name": "python",
   "nbconvert_exporter": "python",
   "pygments_lexer": "ipython3",
   "version": "3.7.2"
  }
 },
 "nbformat": 4,
 "nbformat_minor": 2
}
